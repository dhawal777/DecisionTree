{
 "cells": [
  {
   "cell_type": "code",
   "execution_count": 129,
   "metadata": {},
   "outputs": [],
   "source": [
    "import pandas as pd\n",
    "import numpy as np\n",
    "import sklearn as sk\n",
    "from sklearn.model_selection import train_test_split\n",
    "eps=np.finfo(float).eps\n",
    "from binarytree import tree,Node\n",
    "from sklearn.metrics import classification_report, confusion_matrix ,accuracy_score\n",
    "from sklearn.tree import DecisionTreeClassifier\n",
    "from operator import itemgetter\n",
    "import copy"
   ]
  },
  {
   "cell_type": "code",
   "execution_count": 130,
   "metadata": {},
   "outputs": [],
   "source": [
    "df=pd.read_csv(\"train.csv\")"
   ]
  },
  {
   "cell_type": "code",
   "execution_count": 131,
   "metadata": {},
   "outputs": [],
   "source": [
    "X =df.drop(['left'],axis=1)\n",
    "# X = pd.concat([X,pd.get_dummies(df['sales'], prefix='sales')],axis=1)\n",
    "# X = pd.concat([X,pd.get_dummies(df['salary'], prefix='salary')],axis=1)\n",
    "y=df['left']"
   ]
  },
  {
   "cell_type": "code",
   "execution_count": 132,
   "metadata": {},
   "outputs": [],
   "source": [
    "X_train, X_test, y_train, y_test = train_test_split(X, y, test_size=0.2)\n",
    "orignalX=copy.deepcopy(X_train)\n",
    "orignalY=copy.deepcopy(y_train)\n",
    "testX=copy.deepcopy(X_test)\n",
    "testY=copy.deepcopy(y_test)\n",
    "numeric=['last_evaluation','satisfaction_level','average_montly_hours','time_spend_company','number_project']"
   ]
  },
  {
   "cell_type": "code",
   "execution_count": 133,
   "metadata": {},
   "outputs": [],
   "source": [
    "def bestAttribute(df):\n",
    "    if df.empty==True:\n",
    "        return\n",
    "    infoGain={}\n",
    "    max2=0\n",
    "    attr=\"\"\n",
    "    entropy_1=findParentEntropy(df)\n",
    "    for key in df.keys()[:-1]:\n",
    "        \n",
    "        if key not in numeric:\n",
    "#             print(\"XXX-------\",key)\n",
    "            entropy_2=findRelativeEntropy(df,key)\n",
    "            if ((entropy_1-entropy_2)) > max2:\n",
    "                max2=entropy_1-entropy_2\n",
    "                attr=key\n",
    "    t=(max2,0)\n",
    "    infoGain[attr]=t\n",
    "    return infoGain"
   ]
  },
  {
   "cell_type": "code",
   "execution_count": 134,
   "metadata": {},
   "outputs": [],
   "source": [
    "def findRelativeEntropy(df,attribute):\n",
    "    if df.empty==True:\n",
    "        return\n",
    "    classCol= df.keys()[-1] \n",
    "    #last col assumed as result \n",
    "    #getting target class \n",
    "    resultValues=df[classCol].unique() \n",
    "    attributeNames=df[attribute].unique()\n",
    "    entropy2 = 0\n",
    "    for attr in attributeNames:\n",
    "        entropy = 0\n",
    "        for value in resultValues:\n",
    "            #temp&hot with yes\n",
    "            num = len(df[attribute][df[attribute]==attr][df[classCol]==value])\n",
    "            #total hot\n",
    "            den = len(df[attribute][df[attribute]==attr])\n",
    "            fraction = num/(den+eps)\n",
    "            entropy += -fraction*np.log2(fraction+eps)\n",
    "        #entropy attribute/total*(entropy attribute_values)\n",
    "        fraction2 = den/len(df)  \n",
    "        entropy2 += -fraction2*entropy \n",
    "    return abs(entropy2)"
   ]
  },
  {
   "cell_type": "code",
   "execution_count": 135,
   "metadata": {},
   "outputs": [],
   "source": [
    "def findParentEntropy(df):\n",
    "    if df.empty==True:\n",
    "        return\n",
    "    classCol=df.keys()[-1]\n",
    "    #yeh sirf header return karega\n",
    "    resultValues=df[classCol].unique()\n",
    "    #all ouput values in output column\n",
    "    entropy=0\n",
    "    for value in resultValues:\n",
    "        fraction=df[classCol].value_counts()[value]/(len(df[classCol])+eps)\n",
    "        entropy+=-fraction*np.log2(fraction+eps)\n",
    "    return abs(entropy)\n",
    "    \n",
    "    "
   ]
  },
  {
   "cell_type": "code",
   "execution_count": 136,
   "metadata": {},
   "outputs": [],
   "source": [
    "def get_subtable(df, node,value):\n",
    "    return df[df[node] == value].reset_index(drop=True)\n"
   ]
  },
  {
   "cell_type": "code",
   "execution_count": 137,
   "metadata": {},
   "outputs": [],
   "source": [
    "def get_subtableSmaller(df, node,value):\n",
    "    if df.empty==True:\n",
    "        return\n",
    "    return df[df[node] < value].reset_index(drop=True)"
   ]
  },
  {
   "cell_type": "code",
   "execution_count": 138,
   "metadata": {},
   "outputs": [],
   "source": [
    "def get_subtableGreater(df, node,value):\n",
    "    if df.empty==True:\n",
    "        return\n",
    "    return df[df[node] >= value].reset_index(drop=True)"
   ]
  },
  {
   "cell_type": "code",
   "execution_count": 139,
   "metadata": {},
   "outputs": [],
   "source": [
    "\n",
    "df=pd.concat([X_train,y_train],axis=1)\n",
    "def split(df):\n",
    "    \n",
    "    splitpoint={}\n",
    "    for col in numeric:\n",
    "#         df.sort_values(col,inplace=True)\n",
    "        prev=None;\n",
    "        value=0;\n",
    "        max1=0;\n",
    "        entropy1=findParentEntropy(df)\n",
    "#         print(col)\n",
    "        l=df[col].unique()\n",
    "        for mid in l:\n",
    "            # if prev is not None:\n",
    "#             if prev is not None:\n",
    "#     #             if prev['left'] != row['left']:\n",
    "#                 mid=(float(prev[col])+float(row[col]))/2\n",
    "            subtableLeft=get_subtableSmaller(df,col,mid)\n",
    "            subtableRight=get_subtableGreater(df,col,mid)\n",
    "            fraction=len(subtableLeft)/len(df)\n",
    "            fraction1=len(subtableRight)/len(df)\n",
    "\n",
    "#                 print(subtableLeft)\n",
    "#                 a=input()\n",
    "            firstSubtable=0\n",
    "            secondSubtable=0\n",
    "            if subtableLeft.empty:\n",
    "                firstSubtable=0\n",
    "            else:\n",
    "                firstSubtable=fraction*findParentEntropy(subtableLeft)\n",
    "#                 print(subtableRight)\n",
    "            if subtableRight.empty:\n",
    "                secondSubtable=0\n",
    "            else:\n",
    "                secondSubtable=fraction1*findParentEntropy(subtableRight)\n",
    "\n",
    "            entropy2=firstSubtable+secondSubtable\n",
    "            ig1=abs(entropy1)-abs(entropy2)\n",
    "\n",
    "            if ig1>max1:\n",
    "                max1=ig1\n",
    "                value=mid\n",
    "#             prev=row\n",
    "        t=(max1,value)\n",
    "        splitpoint[col]=t\n",
    "    \n",
    "    return splitpoint"
   ]
  },
  {
   "cell_type": "code",
   "execution_count": 140,
   "metadata": {},
   "outputs": [],
   "source": [
    "# print(X_train)\n",
    "# print(value)\n",
    "# print(max1)\n",
    "# df=pd.concat([X_train,y_train],axis=1)\n",
    "#df"
   ]
  },
  {
   "cell_type": "code",
   "execution_count": 141,
   "metadata": {},
   "outputs": [],
   "source": [
    "class node:\n",
    "    def __init__(self,value):\n",
    "        self.value=value\n",
    "        self.child=[]\n",
    "        self.edges=[]\n",
    "        self.positive=0\n",
    "        self.negative=0"
   ]
  },
  {
   "cell_type": "code",
   "execution_count": 142,
   "metadata": {},
   "outputs": [],
   "source": [
    "def buildTree(df):\n",
    "        if len(df.columns)==1:\n",
    "            return\n",
    "        resultLabel= df.keys()[-1] \n",
    "        clValue,counts = np.unique(df[resultLabel],return_counts=True)\n",
    "\n",
    "        #     print(clValue,counts)\n",
    "        if(len(counts)==0):\n",
    "            return \n",
    "\n",
    "        if len(counts)<=1:\n",
    "            root=node(clValue[0])\n",
    "            if clValue[0]==0:\n",
    "                root.negative=counts[0]\n",
    "            else:\n",
    "                root.positive=counts[0]\n",
    "        #         print(\"leaf\")\n",
    "\n",
    "        else:\n",
    "\n",
    "            newsplit=split(df)\n",
    "            calsplit=bestAttribute(df)\n",
    "            newsplit.update(calsplit)\n",
    "            maxig=0\n",
    "            spoint=0\n",
    "            attr=\"\"\n",
    "            for k,t1 in newsplit.items():\n",
    "        #             t1=i.value()\n",
    "                if maxig<t1[0]:\n",
    "                    maxig=t1[0]\n",
    "                    spoint=t1[1]\n",
    "                    attr=k\n",
    "            if attr==\"\":\n",
    "                return None\n",
    "\n",
    "            root=node(attr)\n",
    "            root.split=spoint\n",
    "            root.positive=counts[1]\n",
    "            root.negative=counts[0]\n",
    "\n",
    "            if attr in numeric:\n",
    "                subtable0 = get_subtableSmaller(df,attr,spoint)\n",
    "        #         subtable0 =subtable0.drop([attribute_name],axis=1)\n",
    "                subtable1 = get_subtableGreater(df,attr,spoint)\n",
    "                root.child.append(buildTree(subtable0))\n",
    "                root.child.append(buildTree(subtable1))\n",
    "\n",
    "            else:\n",
    "\n",
    "                for j in df[attr].unique():\n",
    "        #                     print(j)\n",
    "                    subtable0 = get_subtable(df,attr,j)\n",
    "                    subtable0 =subtable0.drop([attr],axis=1)\n",
    "                    root.edges.append(j)\n",
    "                    root.child.append(buildTree(subtable0))\n",
    "\n",
    "\n",
    "        return root\n",
    "\n",
    "#     root=buildTree(df)\n",
    "#     print(root.value)\n",
    "\n",
    "    "
   ]
  },
  {
   "cell_type": "code",
   "execution_count": 143,
   "metadata": {},
   "outputs": [],
   "source": [
    "# print(df)\n",
    "root=buildTree(df)\n",
    "# print(root.value)"
   ]
  },
  {
   "cell_type": "code",
   "execution_count": 144,
   "metadata": {},
   "outputs": [],
   "source": [
    "def testing(row1,root):\n",
    "#             if root==None:\n",
    "#                 y1.append(0)\n",
    "#                 return\n",
    "            \n",
    "            if len(root.child)==0:\n",
    "                y1.append(root.value)\n",
    "                return\n",
    "\n",
    "            i=root.value\n",
    "    #         if i in row1:\n",
    "            num=0;\n",
    "            if i in numeric:\n",
    "                if row1[i]<root.split and root.child[0]!=None:\n",
    "                    num=1;\n",
    "                    testing(row1,root.child[0])\n",
    "                elif row1[i]>=root.split and root.child[1]!=None:\n",
    "                    num=1;\n",
    "                    testing(row1,root.child[1])\n",
    "                if num==0:\n",
    "                    if root.positive>root.negative:\n",
    "                        y1.append(1)\n",
    "                    else:\n",
    "                        y1.append(0)\n",
    "                    return\n",
    "                    \n",
    "            else:\n",
    "                k=0\n",
    "                flag=0\n",
    "                for j in root.edges:\n",
    "                    if row1[i]==j and root.child[k]!=None:\n",
    "#                         print(\"inside\")\n",
    "                        flag=1\n",
    "                        testing(row1,root.child[k])\n",
    "                        break\n",
    "                    elif row1[i]==j:\n",
    "                        if root.positive>root.negative:\n",
    "                            y1.append(1)\n",
    "                        else:\n",
    "                            y1.append(0)\n",
    "                        return\n",
    "                    k=k+1\n",
    "                if flag==0:\n",
    "                    if root.positive>root.negative:\n",
    "                        y1.append(1)\n",
    "                    else:\n",
    "                        y1.append(0)\n",
    "                    return"
   ]
  },
  {
   "cell_type": "code",
   "execution_count": 145,
   "metadata": {},
   "outputs": [],
   "source": [
    "#X_test\n",
    "# print(splitpoint)"
   ]
  },
  {
   "cell_type": "code",
   "execution_count": 147,
   "metadata": {},
   "outputs": [
    {
     "name": "stdout",
     "output_type": "stream",
     "text": [
      "2248\n"
     ]
    }
   ],
   "source": [
    "def predict(df,root):\n",
    "    for index,row in df.iterrows():\n",
    "        testing(row,root)\n",
    "\n",
    "y1=[] \n",
    "predict(X_test,root)  \n",
    "print(len(y1))\n"
   ]
  },
  {
   "cell_type": "code",
   "execution_count": 148,
   "metadata": {},
   "outputs": [
    {
     "name": "stdout",
     "output_type": "stream",
     "text": [
      "[[1652   26]\n",
      " [  30  540]]\n",
      "0.9750889679715302\n",
      "              precision    recall  f1-score   support\n",
      "\n",
      "           0       0.98      0.98      0.98      1678\n",
      "           1       0.95      0.95      0.95       570\n",
      "\n",
      "   micro avg       0.98      0.98      0.98      2248\n",
      "   macro avg       0.97      0.97      0.97      2248\n",
      "weighted avg       0.98      0.98      0.98      2248\n",
      "\n"
     ]
    }
   ],
   "source": [
    "print(confusion_matrix(y_test, y1))  \n",
    "print(accuracy_score(y_test,y1))\n",
    "print(classification_report(y_test, y1)) "
   ]
  },
  {
   "cell_type": "code",
   "execution_count": 149,
   "metadata": {},
   "outputs": [
    {
     "name": "stdout",
     "output_type": "stream",
     "text": [
      "[0, 1]\n"
     ]
    }
   ],
   "source": [
    "inputData=pd.read_csv(\"sample_test.csv\")\n",
    "XInput=inputData\n",
    "# XInput =inputData.drop(['sales','salary'],axis=1)\n",
    "# XInput = pd.concat([XInput,pd.get_dummies(inputData['sales'], prefix='sales')],axis=1)\n",
    "# XInput = pd.concat([XInput,pd.get_dummies(inputData['salary'], prefix='salary')],axis=1)\n",
    "y1=[] \n",
    "# for col in numeric:\n",
    "#     value=splitpoint[col]\n",
    "#     for index,row1 in XInput.iterrows():\n",
    "#             if float(row1[col])<value:\n",
    "#                 XInput.at[index,col]=0\n",
    "#             else:\n",
    "#                 XInput.at[index,col]=1\n",
    "predict(XInput,root) \n",
    "print(y1)\n",
    "# yInput=df['left']"
   ]
  },
  {
   "cell_type": "code",
   "execution_count": 150,
   "metadata": {},
   "outputs": [],
   "source": [
    "testX = pd.concat([testX,pd.get_dummies(testX['sales'], prefix='sales')],axis=1)\n",
    "testX = pd.concat([testX,pd.get_dummies(testX['salary'], prefix='salary')],axis=1)\n",
    "testX =testX.drop(['sales','salary'],axis=1)\n",
    "# print(orignalX)"
   ]
  },
  {
   "cell_type": "code",
   "execution_count": 151,
   "metadata": {},
   "outputs": [],
   "source": [
    "orignalX = pd.concat([orignalX,pd.get_dummies(orignalX['sales'], prefix='sales')],axis=1)\n",
    "orignalX = pd.concat([orignalX,pd.get_dummies(orignalX['salary'], prefix='salary')],axis=1)\n",
    "orignalX =orignalX.drop(['sales','salary'],axis=1)\n",
    "# print(testX)"
   ]
  },
  {
   "cell_type": "code",
   "execution_count": 152,
   "metadata": {
    "scrolled": true
   },
   "outputs": [
    {
     "name": "stdout",
     "output_type": "stream",
     "text": [
      "[[1637   41]\n",
      " [  34  536]]\n",
      "              precision    recall  f1-score   support\n",
      "\n",
      "           0       0.98      0.98      0.98      1678\n",
      "           1       0.93      0.94      0.93       570\n",
      "\n",
      "   micro avg       0.97      0.97      0.97      2248\n",
      "   macro avg       0.95      0.96      0.96      2248\n",
      "weighted avg       0.97      0.97      0.97      2248\n",
      "\n",
      "0.9666370106761566\n"
     ]
    }
   ],
   "source": [
    "classifier = DecisionTreeClassifier()\n",
    "classifier.fit(orignalX, orignalY)  \n",
    "y_pred = classifier.predict(testX)  \n",
    "print(confusion_matrix(testY, y_pred))  \n",
    "print(classification_report(testY, y_pred)) \n",
    "print(accuracy_score(testY,y_pred))"
   ]
  },
  {
   "cell_type": "code",
   "execution_count": null,
   "metadata": {},
   "outputs": [],
   "source": [
    "# y_pred = classifier.predict(XInput)  \n",
    "# print(confusion_matrix(testY, y_pred))  \n",
    "# print(classification_report(testY, y_pred)) \n",
    "# print(accuracy_score(testY,y_pred))"
   ]
  },
  {
   "cell_type": "code",
   "execution_count": null,
   "metadata": {},
   "outputs": [],
   "source": [
    "# print(y1)"
   ]
  },
  {
   "cell_type": "code",
   "execution_count": null,
   "metadata": {},
   "outputs": [],
   "source": [
    "\n",
    "# print(confusion_matrix(y_pred, y1))  \n",
    "# print(accuracy_score(y_pred,y1))\n",
    "# print(classification_report(y_pred, y1)) "
   ]
  }
 ],
 "metadata": {
  "kernelspec": {
   "display_name": "Python 3",
   "language": "python",
   "name": "python3"
  },
  "language_info": {
   "codemirror_mode": {
    "name": "ipython",
    "version": 3
   },
   "file_extension": ".py",
   "mimetype": "text/x-python",
   "name": "python",
   "nbconvert_exporter": "python",
   "pygments_lexer": "ipython3",
   "version": "3.6.7"
  }
 },
 "nbformat": 4,
 "nbformat_minor": 2
}
