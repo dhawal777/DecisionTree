{
 "cells": [
  {
   "cell_type": "code",
   "execution_count": 58,
   "metadata": {},
   "outputs": [],
   "source": [
    "import pandas as pd\n",
    "import numpy as np\n",
    "import sklearn as sk\n",
    "from sklearn.model_selection import train_test_split\n",
    "eps=np.finfo(float).eps\n",
    "from binarytree import tree,Node\n",
    "from sklearn.metrics import classification_report, confusion_matrix ,accuracy_score\n",
    "from sklearn.tree import DecisionTreeClassifier\n",
    "from operator import itemgetter\n",
    "import copy"
   ]
  },
  {
   "cell_type": "code",
   "execution_count": 59,
   "metadata": {},
   "outputs": [],
   "source": [
    "df=pd.read_csv(\"train.csv\")"
   ]
  },
  {
   "cell_type": "code",
   "execution_count": 60,
   "metadata": {},
   "outputs": [],
   "source": [
    "X =df.drop(['left','last_evaluation','satisfaction_level','average_montly_hours','time_spend_company','number_project','salary','sales'],axis=1)\n",
    "X = pd.concat([X,pd.get_dummies(df['sales'], prefix='sales')],axis=1)\n",
    "X = pd.concat([X,pd.get_dummies(df['salary'], prefix='salary')],axis=1)\n",
    "y=df['left']"
   ]
  },
  {
   "cell_type": "code",
   "execution_count": 61,
   "metadata": {},
   "outputs": [],
   "source": [
    "X_train, X_test, y_train, y_test = train_test_split(X, y, test_size=0.2)\n",
    "orignalX=copy.deepcopy(X_train)\n",
    "orignalY=copy.deepcopy(y_train)\n",
    "testX=copy.deepcopy(X_test)\n",
    "testY=copy.deepcopy(y_test)"
   ]
  },
  {
   "cell_type": "code",
   "execution_count": 62,
   "metadata": {},
   "outputs": [],
   "source": [
    "df=pd.concat([X_train,y_train],axis=1)\n",
    "# df"
   ]
  },
  {
   "cell_type": "code",
   "execution_count": 63,
   "metadata": {},
   "outputs": [],
   "source": [
    "def bestAttribute(df):\n",
    "    if df.empty==True:\n",
    "        return\n",
    "#     infoGain=[]\n",
    "    max_attr=\"\"\n",
    "    max1=0\n",
    "    entropy1=findParentEntropy(df)\n",
    "    for key in df.keys()[:-1]:\n",
    "#         print(\"dwfa  \",key)\n",
    "        entropy2=findRelativeEntropy(df,key)\n",
    "        if (entropy1-entropy2)>max1:\n",
    "            max1=entropy1-entropy2\n",
    "            max_attr=key\n",
    "        \n",
    "    return max_attr\n",
    "    "
   ]
  },
  {
   "cell_type": "code",
   "execution_count": 64,
   "metadata": {},
   "outputs": [],
   "source": [
    "def findRelativeEntropy(df,attribute):\n",
    "    if df.empty==True:\n",
    "        return\n",
    "#  \n",
    "    classCol='left'\n",
    "    resultValues=df['left'].unique() \n",
    "    attributeNames=df[attribute].unique()\n",
    "    entropy2 = 0\n",
    "    for attr in attributeNames:\n",
    "        entropy = 0\n",
    "        for value in resultValues:\n",
    "            #temp&hot with yes\n",
    "            num = len(df[attribute][df[attribute]==attr][df[classCol]==value])\n",
    "            #total hot\n",
    "            den = len(df[attribute][df[attribute]==attr])\n",
    "            fraction = num/(den+eps)\n",
    "            entropy += -fraction*np.log2(fraction+eps)\n",
    "        #entropy attribute/total*(entropy attribute_values)\n",
    "        fraction2 = den/len(df)  \n",
    "        entropy2 += -fraction2*entropy \n",
    "    return abs(entropy2)\n"
   ]
  },
  {
   "cell_type": "code",
   "execution_count": 65,
   "metadata": {},
   "outputs": [],
   "source": [
    "def findParentEntropy(df):\n",
    "    if df.empty==True:\n",
    "        return\n",
    "    classCol=df.keys()[-1]\n",
    "    #yeh sirf header return karega\n",
    "    resultValues=df[classCol].unique()\n",
    "    #all ouput values in output column\n",
    "    entropy=0\n",
    "    for value in resultValues:\n",
    "        fraction=df[classCol].value_counts()[value]/len(df[classCol])\n",
    "        entropy+=-fraction*np.log2(fraction+eps)\n",
    "    return abs(entropy)"
   ]
  },
  {
   "cell_type": "code",
   "execution_count": 66,
   "metadata": {},
   "outputs": [],
   "source": [
    "class node:\n",
    "    def __init__(self,value,left=None,right=None):\n",
    "        self.value=value\n",
    "        self.left=left\n",
    "        self.right=right"
   ]
  },
  {
   "cell_type": "code",
   "execution_count": 67,
   "metadata": {},
   "outputs": [],
   "source": [
    "def get_subtable(df, node,value):\n",
    "    if df.empty==True:\n",
    "        return\n",
    "    return df[df[node] == value].reset_index(drop=True)\n"
   ]
  },
  {
   "cell_type": "code",
   "execution_count": 68,
   "metadata": {},
   "outputs": [],
   "source": [
    "def buildTree(df):\n",
    "    if len(df.columns)==1:\n",
    "        return\n",
    "    \n",
    "    clValue=df['left'].unique()\n",
    "    r=0;\n",
    "    counts=[]\n",
    "    counts=df['left'].value_counts()\n",
    "    attribute_name=bestAttribute(df)\n",
    "#     attValue = np.unique(df[attribute_name])\n",
    "    if attribute_name==\"\":\n",
    "            return None\n",
    "    root=node(attribute_name)\n",
    "    \n",
    "    if len(counts)<=1:\n",
    "        if clValue[0]==0:\n",
    "            root.negative=counts[0]\n",
    "        else:\n",
    "            root.positive=counts[0]\n",
    "    else:\n",
    "        root.positive=counts[1]\n",
    "        root.negative=counts[0]\n",
    "            \n",
    "            \n",
    "#         for value in attValue:\n",
    "#             print(type(value))\n",
    "        \n",
    "        subtable0 = get_subtable(df,attribute_name,0)\n",
    "        subtable0 =subtable0.drop([attribute_name],axis=1)\n",
    "        subtable1 = get_subtable(df,attribute_name,1)\n",
    "        subtable1 =subtable1.drop([attribute_name],axis=1)\n",
    "        countleft=subtable0['left'].value_counts()\n",
    "        countright=subtable1['left'].value_counts()\n",
    "        if(len(countleft)<=1):\n",
    "            pass\n",
    "        else:\n",
    "            root.left=buildTree(subtable0) #Calling the function recursively\n",
    "        if(len(countright)<=1):\n",
    "            pass\n",
    "        else:\n",
    "            root.right=buildTree(subtable1)\n",
    "       \n",
    "                   \n",
    "    return root"
   ]
  },
  {
   "cell_type": "code",
   "execution_count": 69,
   "metadata": {},
   "outputs": [],
   "source": [
    "root=buildTree(df)\n",
    "# print(root.value)"
   ]
  },
  {
   "cell_type": "code",
   "execution_count": 70,
   "metadata": {
    "scrolled": true
   },
   "outputs": [],
   "source": [
    "# print(root.right.value)\n",
    "# print(root.right.left)\n",
    "# print(root.left.value)\n",
    "# print(root.left.left.value)\n",
    "# print(root.left.right.value)\n"
   ]
  },
  {
   "cell_type": "code",
   "execution_count": 71,
   "metadata": {},
   "outputs": [],
   "source": [
    "def testing(row1,root):\n",
    "    #     if root==None:\n",
    "    #         return \n",
    "        #print(root.value)\n",
    "        if root.left==None and root.right==None:\n",
    "            if root.positive > root.negative:\n",
    "                y1.append(1)\n",
    "            else:\n",
    "                y1.append(0)\n",
    "            return\n",
    "    #     for i in row1.keys():\n",
    "    #         if i==root.value:\n",
    "        i=root.value\n",
    "        if i in row1:\n",
    "            \n",
    "            if row1[i]==0:\n",
    "        #         print(\"000\")\n",
    "                if root.left==None:\n",
    "                    if root.positive > root.negative:\n",
    "                        y1.append(1)\n",
    "                        return\n",
    "                    else:\n",
    "                        y1.append(0)\n",
    "                        return\n",
    "                else:\n",
    "                    testing(row1,root.left)\n",
    "            else:\n",
    "        #         print(\"111\")\n",
    "                if root.right==None:\n",
    "                    if root.positive > root.negative:\n",
    "                        y1.append(1)\n",
    "                        return\n",
    "                    else:\n",
    "                        y1.append(0)\n",
    "                        return \n",
    "                else:\n",
    "                    testing(row1,root.right)\n",
    "        else:\n",
    "            if root.left==None:\n",
    "                if root.positive > root.negative:\n",
    "                    y1.append(1)\n",
    "                    return\n",
    "                else:\n",
    "                    y1.append(0)\n",
    "                    return\n",
    "            else:\n",
    "                testing(row1,root.left)"
   ]
  },
  {
   "cell_type": "code",
   "execution_count": 72,
   "metadata": {},
   "outputs": [
    {
     "name": "stdout",
     "output_type": "stream",
     "text": [
      "2248\n"
     ]
    }
   ],
   "source": [
    "# def testingData(df):\n",
    "#     for index,row in df.iterrows():\n",
    "#         testing(row,root)\n",
    "\n",
    "# y1=[]       \n",
    "# testingData(X_test)  \n",
    "# print(len(y1))\n",
    "def predict(df,root):\n",
    "    for index,row in df.iterrows():\n",
    "        testing(row,root)\n",
    "\n",
    "y1=[] \n",
    "X_test\n",
    "predict(X_test,root)  \n",
    "print(len(y1))\n",
    "\n"
   ]
  },
  {
   "cell_type": "code",
   "execution_count": 73,
   "metadata": {},
   "outputs": [
    {
     "name": "stdout",
     "output_type": "stream",
     "text": [
      "[[1706    0]\n",
      " [ 542    0]]\n",
      "              precision    recall  f1-score   support\n",
      "\n",
      "           0       0.76      1.00      0.86      1706\n",
      "           1       0.00      0.00      0.00       542\n",
      "\n",
      "   micro avg       0.76      0.76      0.76      2248\n",
      "   macro avg       0.38      0.50      0.43      2248\n",
      "weighted avg       0.58      0.76      0.65      2248\n",
      "\n"
     ]
    },
    {
     "name": "stderr",
     "output_type": "stream",
     "text": [
      "/home/dhawal/.local/lib/python3.6/site-packages/sklearn/metrics/classification.py:1143: UndefinedMetricWarning: Precision and F-score are ill-defined and being set to 0.0 in labels with no predicted samples.\n",
      "  'precision', 'predicted', average, warn_for)\n"
     ]
    }
   ],
   "source": [
    "print(confusion_matrix(y_test, y1))  \n",
    "print(classification_report(y_test, y1)) "
   ]
  },
  {
   "cell_type": "code",
   "execution_count": 74,
   "metadata": {},
   "outputs": [
    {
     "name": "stdout",
     "output_type": "stream",
     "text": [
      "75.88967971530249\n"
     ]
    }
   ],
   "source": [
    "accuracy=accuracy_score(y_test, y1)*100\n",
    "print(accuracy)"
   ]
  },
  {
   "cell_type": "code",
   "execution_count": 75,
   "metadata": {},
   "outputs": [],
   "source": [
    "inputData=pd.read_csv(\"sample_test.csv\")\n",
    "XInput =inputData.drop(['sales','salary','last_evaluation','satisfaction_level','average_montly_hours','time_spend_company','number_project'],axis=1)\n",
    "XInput = pd.concat([XInput,pd.get_dummies(inputData['sales'], prefix='sales')],axis=1)\n",
    "XInput = pd.concat([XInput,pd.get_dummies(inputData['salary'], prefix='salary')],axis=1)\n",
    "y1=[] \n",
    "\n",
    "       \n",
    "predict(XInput,root)"
   ]
  },
  {
   "cell_type": "code",
   "execution_count": 76,
   "metadata": {},
   "outputs": [
    {
     "name": "stdout",
     "output_type": "stream",
     "text": [
      "[0, 0]\n"
     ]
    }
   ],
   "source": [
    "print(y1)"
   ]
  },
  {
   "cell_type": "code",
   "execution_count": 77,
   "metadata": {
    "scrolled": true
   },
   "outputs": [
    {
     "name": "stdout",
     "output_type": "stream",
     "text": [
      "[[1705    1]\n",
      " [ 541    1]]\n",
      "              precision    recall  f1-score   support\n",
      "\n",
      "           0       0.76      1.00      0.86      1706\n",
      "           1       0.50      0.00      0.00       542\n",
      "\n",
      "   micro avg       0.76      0.76      0.76      2248\n",
      "   macro avg       0.63      0.50      0.43      2248\n",
      "weighted avg       0.70      0.76      0.66      2248\n",
      "\n",
      "0.7588967971530249\n"
     ]
    }
   ],
   "source": [
    "classifier = DecisionTreeClassifier()\n",
    "classifier.fit(orignalX, orignalY)  \n",
    "y_pred = classifier.predict(testX)  \n",
    "print(confusion_matrix(testY, y_pred))  \n",
    "print(classification_report(testY, y_pred)) \n",
    "print(accuracy_score(testY,y_pred))"
   ]
  },
  {
   "cell_type": "code",
   "execution_count": 78,
   "metadata": {
    "scrolled": true
   },
   "outputs": [
    {
     "name": "stdout",
     "output_type": "stream",
     "text": [
      "75.88967971530249\n"
     ]
    }
   ],
   "source": [
    "accuracy=accuracy_score(y_test, y_pred)*100\n",
    "print(accuracy)"
   ]
  }
 ],
 "metadata": {
  "kernelspec": {
   "display_name": "Python 3",
   "language": "python",
   "name": "python3"
  },
  "language_info": {
   "codemirror_mode": {
    "name": "ipython",
    "version": 3
   },
   "file_extension": ".py",
   "mimetype": "text/x-python",
   "name": "python",
   "nbconvert_exporter": "python",
   "pygments_lexer": "ipython3",
   "version": "3.6.7"
  }
 },
 "nbformat": 4,
 "nbformat_minor": 2
}
